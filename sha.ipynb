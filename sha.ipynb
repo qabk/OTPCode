{
 "cells": [
  {
   "cell_type": "code",
   "execution_count": 13,
   "metadata": {},
   "outputs": [],
   "source": [
    "import numpy as np\n",
    "import hashlib,hmac, time"
   ]
  },
  {
   "cell_type": "code",
   "execution_count": 14,
   "metadata": {},
   "outputs": [],
   "source": [
    "# chuyen chuoi ki tu thanh cac so hexa\n",
    "def char_to_hex(char): \n",
    "    return hex(ord(char))[2:]"
   ]
  },
  {
   "cell_type": "code",
   "execution_count": 15,
   "metadata": {},
   "outputs": [],
   "source": [
    "\"\"\"\n",
    "dem xem can bao nhieu so 0 de them vao padding,\n",
    "padding bit 1 va mot so nhat dinh cac so 0 de xau ki tu s % 512 = 448\n",
    "\"\"\"\n",
    "def count_0(string):\n",
    "    res = len(string)*4\n",
    "    t = 0\n",
    "    while(res%512 != 448):\n",
    "        res += 1\n",
    "        t +=1\n",
    "    return t"
   ]
  },
  {
   "cell_type": "code",
   "execution_count": 16,
   "metadata": {},
   "outputs": [
    {
     "data": {
      "text/plain": [
       "'616263'"
      ]
     },
     "execution_count": 16,
     "metadata": {},
     "output_type": "execute_result"
    }
   ],
   "source": [
    "# doi ca xau sang hex\n",
    "def string_to_hex(string):\n",
    "    res = \"\"\n",
    "    for i in string:\n",
    "        res += char_to_hex(i)\n",
    "    return res\n",
    "# chuyen chuoi \"abc\" sang ham bam\n",
    "string_to_hex(\"abc\")"
   ]
  },
  {
   "cell_type": "code",
   "execution_count": 17,
   "metadata": {},
   "outputs": [],
   "source": [
    "\"\"\"\n",
    "chen cac bit 0\n",
    "\"\"\"\n",
    "def padding_bit(string,hex_or_not = False):\n",
    "    if(hex_or_not == False):\n",
    "        tmp = string_to_hex(string)\n",
    "    else:\n",
    "        tmp = string\n",
    "    res = tmp + \"8\"\n",
    "    \n",
    "    num = count_0(res)\n",
    "    res = res + \"0\"*int(num/4)   \n",
    "    #print(k)\n",
    "    \"\"\"\n",
    "    sau khi xau ki tu co do dai s % 512 = 448 thi them vao 64 bit de\n",
    "    xau ki tu co the chia thanh n block 512 bit hay 64 byte\n",
    "    \"\"\"\n",
    "    last_length_padding = hex(len(tmp)*4)[2:]\n",
    "    #print(len(last_length_padding))\n",
    "    return res  + (16-len(last_length_padding))*\"0\"+last_length_padding"
   ]
  },
  {
   "cell_type": "code",
   "execution_count": 18,
   "metadata": {},
   "outputs": [
    {
     "data": {
      "text/plain": [
       "'61626380000000000000000000000000000000000000000000000000000000000000000000000000000000000000000000000000000000000000000000000018'"
      ]
     },
     "execution_count": 18,
     "metadata": {},
     "output_type": "execute_result"
    }
   ],
   "source": [
    "# chuoi \"abc\" chuyen sang hex va them cac so 0 vao\n",
    "padding_bit(\"abc\")"
   ]
  },
  {
   "cell_type": "code",
   "execution_count": 19,
   "metadata": {},
   "outputs": [],
   "source": [
    "\"\"\"\n",
    "tao cac blocks\n",
    "\"\"\"\n",
    "def create_block(after_padding_string):\n",
    "    res = []\n",
    "    block = len(after_padding_string)/128\n",
    "    for i in range(int(block)):\n",
    "        tmp_res = []\n",
    "        tmp = after_padding_string[i*128:(i+1)*128]\n",
    "        for j in range(16):\n",
    "            tmp_res.append(np.array(int(tmp[j*8:(j+1)*8:1],16)).astype(np.uint32))\n",
    "        res.append(tmp_res)\n",
    "    \n",
    "    return np.array(res)\n",
    "   "
   ]
  },
  {
   "cell_type": "code",
   "execution_count": 20,
   "metadata": {},
   "outputs": [
    {
     "data": {
      "text/plain": [
       "array([[1633837952,          0,          0,          0,          0,\n",
       "                 0,          0,          0,          0,          0,\n",
       "                 0,          0,          0,          0,          0,\n",
       "                24]], dtype=uint32)"
      ]
     },
     "execution_count": 20,
     "metadata": {},
     "output_type": "execute_result"
    }
   ],
   "source": [
    "create_block(padding_bit(\"abc\"))"
   ]
  },
  {
   "cell_type": "code",
   "execution_count": 21,
   "metadata": {},
   "outputs": [],
   "source": [
    "\"\"\"\n",
    "tao ham f\n",
    "\"\"\"\n",
    "def f(x,y,z,t):\n",
    "    if(0<=t and t <=19):\n",
    "        return ( x & y) ^ (~x & z)\n",
    "    if(40<=t <=59):\n",
    "        return (x&y)^(y&z)^(z&x)\n",
    "    else:\n",
    "        return x^y^z"
   ]
  },
  {
   "cell_type": "code",
   "execution_count": 22,
   "metadata": {},
   "outputs": [],
   "source": [
    "\"\"\"\n",
    "khoi tao cac bien ban dau\n",
    "\"\"\"\n",
    "import numpy as np\n",
    "K = np.array( [0x5a827999,0x6ed9eba1,0x8f1bbcdc,0xca62c1d6]).astype(np.uint32)\n",
    "H_init = np.array([0x67452301,0xefcdab89,0x98badcfe,0x10325476,0xc3d2e1f0]).astype(np.uint32)\n",
    "\n"
   ]
  },
  {
   "cell_type": "code",
   "execution_count": 23,
   "metadata": {},
   "outputs": [],
   "source": [
    "\"\"\"\n",
    "phep dich vong\n",
    "\"\"\"\n",
    "def left_rotate(n,b):\n",
    "    return  ((n << b) | (n >> (32 - b))) & 0xffffffff"
   ]
  },
  {
   "cell_type": "code",
   "execution_count": 24,
   "metadata": {},
   "outputs": [],
   "source": [
    "def sha(blocks):\n",
    "    H_before_state = np.array([0x67452301,0xefcdab89,0x98badcfe,0x10325476,0xc3d2e1f0]).astype(np.uint32)\n",
    "    abcde = H_before_state.copy()\n",
    "    res = abcde.copy()\n",
    "    #print(blocks.shape)\n",
    "    for i in range(blocks.shape[0]):\n",
    "\n",
    "        abcde = H_before_state.copy()\n",
    "        \n",
    "        W = np.zeros(80).astype(np.uint32)\n",
    "\n",
    "        for t in range(80):\n",
    "            if(t < 16):\n",
    "                W[t] = blocks[i][t]\n",
    "            else:\n",
    "                W[t] = left_rotate(W[t-3]^W[t-8]^W[t-14]^W[t-16],1)\n",
    "        \n",
    "            \n",
    "            T = (left_rotate(abcde[0],5)+f(abcde[1],abcde[2],abcde[3],t)+K[int(t/20)]+abcde[4]+W[t])&0xffffffff\n",
    "            abcde[4] = abcde[3]\n",
    "            abcde[3] = abcde[2]\n",
    "            abcde[2] = left_rotate(abcde[1],30)\n",
    "            abcde[1] = abcde[0]\n",
    "            abcde[0] = T\n",
    "           \n",
    "\n",
    "        res = abcde + H_before_state\n",
    "        H_before_state = res.copy()\n",
    "    \n",
    "    a =\"\"\n",
    "    for i in range(5):\n",
    "        a += \"0\"*(8-len(hex(res[i])[2:]))+hex(res[i])[2:]\n",
    "    return a\n",
    "        "
   ]
  },
  {
   "cell_type": "code",
   "execution_count": 26,
   "metadata": {},
   "outputs": [],
   "source": [
    "x = sha(create_block(padding_bit(\"abc\",hex_or_not=False)))"
   ]
  },
  {
   "cell_type": "code",
   "execution_count": 27,
   "metadata": {},
   "outputs": [
    {
     "data": {
      "text/plain": [
       "'a9993e364706816aba3e25717850c26c9cd0d89d'"
      ]
     },
     "execution_count": 27,
     "metadata": {},
     "output_type": "execute_result"
    }
   ],
   "source": [
    "x  "
   ]
  },
  {
   "cell_type": "code",
   "execution_count": 28,
   "metadata": {},
   "outputs": [],
   "source": [
    "password = \"qA090296\"\n",
    "pivot = 1607048354.1137462"
   ]
  },
  {
   "cell_type": "code",
   "execution_count": 29,
   "metadata": {},
   "outputs": [],
   "source": [
    "\"\"\"\n",
    "khai bao ipad va opad\n",
    "\"\"\"\n",
    "ipad = '36'*64\n",
    "opad= '5c'*64"
   ]
  },
  {
   "cell_type": "code",
   "execution_count": 36,
   "metadata": {},
   "outputs": [],
   "source": [
    "def my_hmac(key,mess,key_type_hex = True):\n",
    "    m = string_to_hex(mess)\n",
    "    k = 0\n",
    "    if(key_type_hex == True):\n",
    "        k = key\n",
    "    else:\n",
    "        k = string_to_hex(key)\n",
    "\n",
    "    \n",
    "    if(len(k)> 128):\n",
    "        k = sha(create_block(padding_bit(k,hex_or_not=True)))\n",
    "    \n",
    "    if(len(k) < 128):\n",
    "        k =  k + \"0\"*(128-len(k))\n",
    "    \n",
    "    o_key_pad = int(k,16)^int(opad,16)\n",
    "    o_key_pad = \"0\"*(128-len(hex(o_key_pad)[2:])) + hex(o_key_pad)[2:]\n",
    "    \n",
    "    i_key_pad = int(k,16)^int(ipad,16)\n",
    "    i_key_pad = \"0\"*(128-len(hex(i_key_pad)[2:])) + hex(i_key_pad)[2:]\n",
    "   \n",
    "    small_hash = sha(create_block(padding_bit(i_key_pad + m,hex_or_not=True)))\n",
    "\n",
    "    \n",
    "    return sha(create_block(padding_bit(o_key_pad+small_hash,hex_or_not = True)))\n",
    "    \n",
    "    \n",
    "    "
   ]
  },
  {
   "cell_type": "code",
   "execution_count": 37,
   "metadata": {},
   "outputs": [
    {
     "data": {
      "text/plain": [
       "'4fd0b215276ef12f2b3e4c8ecac2811498b656fc'"
      ]
     },
     "execution_count": 37,
     "metadata": {},
     "output_type": "execute_result"
    }
   ],
   "source": [
    "#kiem tra ham hmac tu tao voi key la \"key\", mess la \"abc\"\n",
    "my_hmac(key = \"key\", mess=\"abc\", key_type_hex=False)"
   ]
  },
  {
   "cell_type": "code",
   "execution_count": 59,
   "metadata": {},
   "outputs": [],
   "source": [
    "# su dung cac thu vien cua python de tao ham sinh otp\n",
    "import time, hashlib, hmac\n",
    "def truncate(hmac_res):\n",
    "    offset = int(hmac_res[38:],16)&0xf\n",
    "    return int(hmac_res[offset*2:offset*2+8],16)%10**6\n",
    "\n",
    "password = \"qA090296\"\n",
    "pivot = 1607048354.1137462 # thoi gian server dong bo voi client\n",
    "\"\"\"\n",
    "def truncate(hmac_res):\n",
    "    offset = int(hmac_res[38:],16)&0xf\n",
    "    return int(hmac_res[offset*2:offset*2+8],16)%10**6\n",
    "\"\"\"\n",
    "def otp_generate(mess):\n",
    "    t = time.time()\n",
    "    intput_key =  str(int((t-pivot)/30))\n",
    "    h = hmac.new(key=bytes(intput_key.encode('utf-8')), msg=bytes(mess.encode('utf-8')), digestmod=hashlib.sha1)\n",
    "    res = str(truncate(h.hexdigest()))\n",
    "    return '0'*(6-len(res))+ res"
   ]
  },
  {
   "cell_type": "code",
   "execution_count": 60,
   "metadata": {},
   "outputs": [
    {
     "data": {
      "text/plain": [
       "'240193'"
      ]
     },
     "execution_count": 60,
     "metadata": {},
     "output_type": "execute_result"
    }
   ],
   "source": [
    "otp_generate(password)"
   ]
  },
  {
   "cell_type": "code",
   "execution_count": 58,
   "metadata": {},
   "outputs": [
    {
     "name": "stdout",
     "output_type": "stream",
     "text": [
      "lay tao otp\n",
      "240193\n",
      "end\n"
     ]
    }
   ],
   "source": [
    "loop_end = 1\n",
    "while(True):\n",
    "    x = input()\n",
    "    if(x == \"lay tao otp\"):\n",
    "        print(otp_generate(password))\n",
    "    if(x == 'end'):\n",
    "        break"
   ]
  },
  {
   "cell_type": "code",
   "execution_count": null,
   "metadata": {},
   "outputs": [],
   "source": []
  }
 ],
 "metadata": {
  "kernelspec": {
   "display_name": "Python 3",
   "language": "python",
   "name": "python3"
  },
  "language_info": {
   "codemirror_mode": {
    "name": "ipython",
    "version": 3
   },
   "file_extension": ".py",
   "mimetype": "text/x-python",
   "name": "python",
   "nbconvert_exporter": "python",
   "pygments_lexer": "ipython3",
   "version": "3.7.6"
  }
 },
 "nbformat": 4,
 "nbformat_minor": 4
}
